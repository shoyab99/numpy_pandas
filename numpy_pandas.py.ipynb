{
 "cells": [
  {
   "cell_type": "code",
   "execution_count": 6,
   "id": "5dab2ecc",
   "metadata": {},
   "outputs": [
    {
     "name": "stdout",
     "output_type": "stream",
     "text": [
      "['median', 'real', 'sum', 'integer', '_UFUNC_API', 'sys', 'NAN', 'mat', 'intp', 'logspace', 'triu_indices_from', 'nditer', 'arctan', 'ravel_multi_index', 'longcomplex', 'clip', 'seterrcall', 'fabs', 'generic', 'sort', 'flip', 'cosh', 'isreal', 'concatenate', 'log2', 'bitwise_and', 'ushort', 'cross', 'SHIFT_UNDERFLOW', 'resize', 'RankWarning', 'set_printoptions', 'nanargmin', 'power', 'conjugate', 'ulonglong', 'all', 'nbytes', 'errstate', 'tanh', 'multiply', 'broadcast_shapes', '__path__', 'fromiter', 'dtype', 'mean', 'object_', 'partition', 'fastCopyAndTranspose', 'einsum', '__deprecated_attrs__', 'sometrue', 'matrixlib', 'pi', 'nanmedian', 'polynomial', 'reciprocal', '__file__', 'apply_over_axes', 'in1d', 'where', '__version__', 'r_', 'nancumsum', 'ufunc', 'deprecate_with_doc', 'issctype', 'printoptions', 'log10', 'lookfor', 'test', 'require', 'asfortranarray', 'is_busday', 'NINF', 'savez', 'tensordot', 'cov', 'get_include', 'string_', 'array_equal', 'issubclass_', 'select', 'arcsin', 'poly', 'ediff1d', '_version', 'nested_iters', 'squeeze', 'signbit', 'geomspace', 'arctanh', 'nonzero', 'interp', 'average', 'remainder', 'mask_indices', 'who', 'uint', 'sin', 'clongfloat', 'logical_not', 'common_type', 'size', 'array_split', 'ndim', 'setxor1d', 'divide', 'piecewise', 'os', 'signedinteger', 'expm1', 'timedelta64', 'fromfunction', 'einsum_path', 'inexact', 'bool_', 'cos', 'Tester', 'setbufsize', 'mintypecode', 'true_divide', 'identity', 'bmat', 'log', 'choose', '_add_newdoc_ufunc', 'union1d', 'bitwise_not', 'sinh', 'sctypeDict', 'issubdtype', 'add', 'array2string', 'sctypes', 'geterr', 'ModuleDeprecationWarning', 'shape', 'format_parser', 'take', 'linspace', 'triu', 'isinf', 'tril', 'logical_xor', 'column_stack', '__config__', 'extract', 'shares_memory', 'isscalar', 'invert', 'kron', 'conj', 'polyfit', 'logical_or', 'setdiff1d', 'triu_indices', 'polymul', 'asarray', 'FPE_DIVIDEBYZERO', 'roots', '_globals', 'hamming', 'ubyte', 'msort', 'chararray', 'MAY_SHARE_BOUNDS', 'convolve', 'Str0', 'ERR_DEFAULT', 'fliplr', 'NaN', 'savetxt', 'percentile', 'issubsctype', 'float_', 'uint0', 'cfloat', 'arcsinh', 'argpartition', 'Infinity', 'longdouble', 'fromstring', 'asscalar', 'UFUNC_PYVALS_NAME', 'var', 'TooHardError', 'seterrobj', 'obj2sctype', 'diag', 'log1p', 'ceil', 'fmin', 'datetime_data', 'nanquantile', 'byte', 'copysign', 'ScalarType', 'rollaxis', 'AxisError', 'loadtxt', 'allclose', 'uintp', 'poly1d', 'stack', 'vsplit', 'atleast_3d', 'isnan', 'warnings', 'FLOATING_POINT_SUPPORT', 'count_nonzero', '_mat', 'exp', 'fromfile', 'unicode_', 'SHIFT_DIVIDEBYZERO', 'polyint', 'outer', 'isfinite', 'broadcast', 'compat', '__getattr__', 'PZERO', 'bytes0', 'arccos', 'packbits', 'ctypeslib', 'get_printoptions', 'deprecate', 'FPE_INVALID', 'str_', 'version', 'argmin', 'set_string_function', 'nansum', 'double', 'copyto', 'genfromtxt', 'put_along_axis', 'unwrap', 'savez_compressed', 'ix_', 'intc', 'Bytes0', 'prod', 'safe_eval', 'fmod', 'argsort', 'get_array_wrap', 'deg2rad', 'digitize', 'imag', 'polyder', 'delete', '__builtins__', 'c_', 'place', 'MAY_SHARE_EXACT', 'equal', 'append', 'gcd', 'newaxis', 'compress', 'iscomplex', 'rint', 'uintc', 'str0', 'ones', '__doc__', 'diagflat', 'amin', 'ERR_WARN', 'greater_equal', 'float_power', 'round_', 'broadcast_arrays', 'nanmean', 'float16', 'csingle', 'histogram', 'atleast_2d', 'histogram2d', 'subtract', 'linalg', 'numarray', 'repeat', 'argmax', 'show_config', 'quantile', 'flipud', 'floor_divide', 'floating', 'oldnumeric', 'isposinf', 'array', 'short', 'any', 'ERR_IGNORE', 'trace', 'polyval', 'real_if_close', 'square', '_NoValue', 'RAISE', 'minimum', 'maximum_sctype', 'int_', 'set_numeric_ops', 'degrees', '__spec__', 'min_scalar_type', 'around', 'record', 'diff', 'fix', 'add_newdoc', 'abs', 'insert', 'vdot', 'mkl', 'char', 'busday_count', 'half', 'swapaxes', 'ALLOW_THREADS', 'FPE_OVERFLOW', 'euler_gamma', 's_', 'fromregex', 'uint8', 'CLIP', 'FPE_UNDERFLOW', 'isneginf', 'bitwise_xor', 'floor', 'ComplexWarning', 'longfloat', 'flatiter', 'trapz', 'ndarray', 'histogram_bin_edges', 'ndindex', 'int32', 'arange', 'ERR_LOG', 'rad2deg', 'base_repr', 'asarray_chkfinite', 'arccosh', 'ldexp', 'testing', 'hypot', 'trunc', '_distributor_init', 'character', 'mafromtxt', 'float32', 'array_str', 'mgrid', 'tri', 'right_shift', 'emath', '__mkl_version__', 'alltrue', 'nanmax', 'singlecomplex', 'random', 'trim_zeros', 'exp2', 'heaviside', 'save', 'fill_diagonal', 'greater', 'ones_like', 'maximum', 'core', 'divmod', 'modf', 'std', 'fmax', 'format_float_positional', 'isrealobj', 'add_docstring', 'ma', 'round', 'clongdouble', 'getbufsize', 'tan', 'typename', 'int8', 'left_shift', 'spacing', 'recfromcsv', 'nanstd', 'cbrt', 'hstack', 'inner', 'ERR_CALL', 'matmul', 'float64', 'diag_indices', 'uint16', 'iinfo', 'lib', 'number', '__cached__', 'bool8', 'VisibleDeprecationWarning', 'kaiser', 'lcm', 'reshape', 'bartlett', 'PINF', 'longlong', 'unpackbits', 'add_newdoc_ufunc', 'NZERO', '__loader__', 'moveaxis', 'load', 'recfromtxt', 'full', 'isclose', 'flexible', 'asfarray', 'radians', 'transpose', 'may_share_memory', 'lexsort', 'block', 'nanprod', 'single', 'nanvar', 'put', 'BUFSIZE', 'uint32', 'binary_repr', 'DataSource', '__all__', 'split', 'ravel', 'polyadd', 'vander', 'correlate', 'searchsorted', 'busday_offset', 'nancumprod', 'polydiv', 'isin', 'isnat', 'logical_and', 'expand_dims', 'dsplit', 'info', '__NUMPY_SETUP__', 'mod', 'nextafter', 'row_stack', 'Uint64', 'geterrcall', 'iterable', 'hanning', 'uint64', 'datetime64', 'tril_indices', 'bytes_', 'diag_indices_from', 'dstack', '__name__', 'unsignedinteger', 'tracemalloc_domain', 'SHIFT_INVALID', 'sctype2char', 'gradient', 'cumprod', 'sinc', 'indices', 'array_equiv', 'cumsum', 'tile', 'array_repr', 'eye', 'complex64', 'compare_chararrays', 'blackman', 'finfo', 'asanyarray', 'seterr', 'False_', 'ogrid', 'hsplit', 'product', 'not_equal', '__expired_functions__', '__dir__', 'ptp', 'SHIFT_OVERFLOW', 'pad', 'i0', 'matrix', 'min', 'object0', 'dot', 'unravel_index', 'complex128', 'frexp', 'little_endian', 'less', 'unique', 'source', 'e', 'sign', '_financial_names', '_pytesttester', 'find_common_type', 'logaddexp2', 'less_equal', 'recarray', 'full_like', 'amax', 'MachAr', 'loads', 'rec', 'arctan2', 'int64', 'can_cast', 'flatnonzero', 'complex_', 'frompyfunc', 'fft', 'byte_bounds', 'inf', 'promote_types', 'Inf', 'ERR_PRINT', 'take_along_axis', 'zeros', 'absolute', 'sort_complex', 'typecodes', 'math', 'bincount', 'roll', 'void', 'frombuffer', 'histogramdd', 'isfortran', 'MAXDIMS', 'nanpercentile', 'format_float_scientific', 'complexfloating', 'WRAP', 'infty', 'ascontiguousarray', 'putmask', 'geterrobj', 'UFUNC_BUFSIZE_DEFAULT', 'copy', 'index_exp', 'nanargmax', '__git_version__', 'True_', 'int16', 'argwhere', 'Datetime64', 'asmatrix', 'cumproduct', 'rot90', 'empty_like', 'iscomplexobj', 'use_hugepage', 'diagonal', 'busdaycalendar', 'ndenumerate', 'corrcoef', 'memmap', 'atleast_1d', 'broadcast_to', 'nan', 'nan_to_num', 'meshgrid', 'result_type', 'datetime_as_string', 'logaddexp', 'negative', 'void0', 'disp', 'nanmin', 'vectorize', 'polysub', 'intersect1d', 'sqrt', 'apply_along_axis', 'alen', 'zeros_like', 'vstack', 'cdouble', 'ERR_RAISE', 'bitwise_or', '__package__', 'int0', 'ndfromtxt', 'positive', 'empty', 'tril_indices_from', 'max', 'cast', 'angle']\n"
     ]
    }
   ],
   "source": [
    "#numpy ---> it is a library used for working with arrays\n",
    "#it also has functions such as linear algrebra,fourier transformer,matrices...\n",
    "import numpy\n",
    "print(numpy.__dir__()) #printing all libraries of numpy"
   ]
  },
  {
   "cell_type": "code",
   "execution_count": 9,
   "id": "59cec2dc",
   "metadata": {},
   "outputs": [
    {
     "data": {
      "text/plain": [
       "array([3, 4, 5])"
      ]
     },
     "execution_count": 9,
     "metadata": {},
     "output_type": "execute_result"
    }
   ],
   "source": [
    "import numpy as np\n",
    "#creating a array using numpy\n",
    "simple_list=[3,4,5]\n",
    "np.array(simple_list)"
   ]
  },
  {
   "cell_type": "code",
   "execution_count": 11,
   "id": "44285ef0",
   "metadata": {},
   "outputs": [
    {
     "name": "stdout",
     "output_type": "stream",
     "text": [
      "[1 2 3 4]\n"
     ]
    }
   ],
   "source": [
    "ar=np.array([1,2,3,4])\n",
    "print(ar)"
   ]
  },
  {
   "cell_type": "code",
   "execution_count": 13,
   "id": "7d9b6033",
   "metadata": {},
   "outputs": [
    {
     "name": "stdout",
     "output_type": "stream",
     "text": [
      "[[1 2 3 4]\n",
      " [5 6 7 8]]\n"
     ]
    }
   ],
   "source": [
    "#multidimenssional array\n",
    "arr=np.array([[1,2,3,4],[5,6,7,8]])\n",
    "print(arr)"
   ]
  },
  {
   "cell_type": "code",
   "execution_count": 19,
   "id": "6c3efa1a",
   "metadata": {},
   "outputs": [
    {
     "name": "stdout",
     "output_type": "stream",
     "text": [
      "[ 1  2  3  4  5  6  7  8  9 10 11 12 13 14 15 16 17 18 19]\n",
      "numbers between 1 to 100 is [ 1  2  3  4  5  6  7  8  9 10 11 12 13 14 15 16 17 18 19 20 21 22 23 24\n",
      " 25 26 27 28 29 30 31 32 33 34 35 36 37 38 39 40 41 42 43 44 45 46 47 48\n",
      " 49 50 51 52 53 54 55 56 57 58 59 60 61 62 63 64 65 66 67 68 69 70 71 72\n",
      " 73 74 75 76 77 78 79 80 81 82 83 84 85 86 87 88 89 90 91 92 93 94 95 96\n",
      " 97 98 99]\n"
     ]
    }
   ],
   "source": [
    "#arange() generates a sequence of numbers within given range\n",
    "a=np.arange(1,20)\n",
    "print(a)\n",
    "b=np.arange(1,100)\n",
    "print(f\"numbers between 1 to 100 is {b}\")"
   ]
  },
  {
   "cell_type": "code",
   "execution_count": 18,
   "id": "dda86e30",
   "metadata": {},
   "outputs": [
    {
     "name": "stdout",
     "output_type": "stream",
     "text": [
      "[ 1  6 11 16]\n"
     ]
    }
   ],
   "source": [
    "c=np.arange(1,20,5) #here 5 is the step between 1 to 20\n",
    "print(c)"
   ]
  },
  {
   "cell_type": "code",
   "execution_count": 20,
   "id": "76da0364",
   "metadata": {},
   "outputs": [
    {
     "data": {
      "text/plain": [
       "array([ 0,  1,  2,  3,  4,  5,  6,  7,  8,  9, 10, 11, 12, 13, 14, 15, 16,\n",
       "       17, 18, 19])"
      ]
     },
     "execution_count": 20,
     "metadata": {},
     "output_type": "execute_result"
    }
   ],
   "source": [
    "np.arange(20) #by default it will start from 0 if it not mentioned"
   ]
  },
  {
   "cell_type": "code",
   "execution_count": 21,
   "id": "92b0f0da",
   "metadata": {},
   "outputs": [
    {
     "data": {
      "text/plain": [
       "array([1., 1., 1., 1., 1.])"
      ]
     },
     "execution_count": 21,
     "metadata": {},
     "output_type": "execute_result"
    }
   ],
   "source": [
    "np.ones(5) #it return ones in the given range"
   ]
  },
  {
   "cell_type": "code",
   "execution_count": 25,
   "id": "7b56a7f8",
   "metadata": {},
   "outputs": [
    {
     "data": {
      "text/plain": [
       "array([0., 0., 0., 0., 0.])"
      ]
     },
     "execution_count": 25,
     "metadata": {},
     "output_type": "execute_result"
    }
   ],
   "source": [
    "np.zeros(5) #it return zeroes in the given range"
   ]
  },
  {
   "cell_type": "code",
   "execution_count": 26,
   "id": "82a07188",
   "metadata": {},
   "outputs": [
    {
     "data": {
      "text/plain": [
       "array([[1., 1., 1.],\n",
       "       [1., 1., 1.]])"
      ]
     },
     "execution_count": 26,
     "metadata": {},
     "output_type": "execute_result"
    }
   ],
   "source": [
    "np.ones((2,3)) #2 rows and 3 columns"
   ]
  },
  {
   "cell_type": "code",
   "execution_count": 32,
   "id": "ae31bb3b",
   "metadata": {},
   "outputs": [
    {
     "data": {
      "text/plain": [
       "array([ 2.,  4.,  6.,  8., 10.])"
      ]
     },
     "execution_count": 32,
     "metadata": {},
     "output_type": "execute_result"
    }
   ],
   "source": [
    "np.linspace(2,10,num=5) #it retuns evenly spaced numbers over a interval"
   ]
  },
  {
   "cell_type": "code",
   "execution_count": 35,
   "id": "4b9d8ba0",
   "metadata": {},
   "outputs": [
    {
     "data": {
      "text/plain": [
       "array([[1., 0., 0.],\n",
       "       [0., 1., 0.],\n",
       "       [0., 0., 1.]])"
      ]
     },
     "execution_count": 35,
     "metadata": {},
     "output_type": "execute_result"
    }
   ],
   "source": [
    "np.eye(3) #create a identity matrix"
   ]
  },
  {
   "cell_type": "code",
   "execution_count": 37,
   "id": "5a38f064",
   "metadata": {},
   "outputs": [
    {
     "data": {
      "text/plain": [
       "array([[1, 0, 0],\n",
       "       [0, 1, 0],\n",
       "       [0, 0, 1]])"
      ]
     },
     "execution_count": 37,
     "metadata": {},
     "output_type": "execute_result"
    }
   ],
   "source": [
    "np.eye(3,dtype=int)"
   ]
  },
  {
   "cell_type": "code",
   "execution_count": 41,
   "id": "e8c6ed7c",
   "metadata": {},
   "outputs": [
    {
     "data": {
      "text/plain": [
       "19"
      ]
     },
     "execution_count": 41,
     "metadata": {},
     "output_type": "execute_result"
    }
   ],
   "source": [
    "np.random.randint(2,20) #returns a random number in the given interval"
   ]
  },
  {
   "cell_type": "code",
   "execution_count": 44,
   "id": "e66659e9",
   "metadata": {},
   "outputs": [
    {
     "name": "stdout",
     "output_type": "stream",
     "text": [
      "[[ 0.66532445  0.7820586 ]\n",
      " [-1.01599937 -0.26868358]]\n"
     ]
    }
   ],
   "source": [
    "arr=np.random.randn(2,2) #print a matrix of random numbers \n",
    "print(arr)"
   ]
  },
  {
   "cell_type": "code",
   "execution_count": 46,
   "id": "20ffa438",
   "metadata": {},
   "outputs": [
    {
     "data": {
      "text/plain": [
       "array([[-0.4077412 ,  2.34694369,  2.44609701],\n",
       "       [ 0.85391839, -0.94635078, -0.59510735]])"
      ]
     },
     "execution_count": 46,
     "metadata": {},
     "output_type": "execute_result"
    }
   ],
   "source": [
    "arr=np.random.randn(2,3)\n",
    "arr"
   ]
  },
  {
   "cell_type": "code",
   "execution_count": 47,
   "id": "dae22219",
   "metadata": {},
   "outputs": [
    {
     "data": {
      "text/plain": [
       "array([[-0.4077412 ,  2.34694369],\n",
       "       [ 2.44609701,  0.85391839],\n",
       "       [-0.94635078, -0.59510735]])"
      ]
     },
     "execution_count": 47,
     "metadata": {},
     "output_type": "execute_result"
    }
   ],
   "source": [
    "arr.reshape(3,2) #reshape the array"
   ]
  },
  {
   "cell_type": "code",
   "execution_count": 48,
   "id": "76097fc4",
   "metadata": {},
   "outputs": [
    {
     "data": {
      "text/plain": [
       "2.4460970126234782"
      ]
     },
     "execution_count": 48,
     "metadata": {},
     "output_type": "execute_result"
    }
   ],
   "source": [
    "arr.max() #prints max value in the array"
   ]
  },
  {
   "cell_type": "code",
   "execution_count": 49,
   "id": "4588d97d",
   "metadata": {},
   "outputs": [
    {
     "data": {
      "text/plain": [
       "-0.9463507762804355"
      ]
     },
     "execution_count": 49,
     "metadata": {},
     "output_type": "execute_result"
    }
   ],
   "source": [
    "arr.min() #prints min value in the array"
   ]
  },
  {
   "cell_type": "code",
   "execution_count": 50,
   "id": "c7cf0145",
   "metadata": {},
   "outputs": [
    {
     "data": {
      "text/plain": [
       "array([[-0.4077412 ,  0.85391839],\n",
       "       [ 2.34694369, -0.94635078],\n",
       "       [ 2.44609701, -0.59510735]])"
      ]
     },
     "execution_count": 50,
     "metadata": {},
     "output_type": "execute_result"
    }
   ],
   "source": [
    "arr.T #transpose--> interchanging rows into columns and viceversa"
   ]
  },
  {
   "cell_type": "code",
   "execution_count": 53,
   "id": "53bf7bf8",
   "metadata": {},
   "outputs": [
    {
     "data": {
      "text/plain": [
       "2"
      ]
     },
     "execution_count": 53,
     "metadata": {},
     "output_type": "execute_result"
    }
   ],
   "source": [
    "arr.argmax() #returns max indcies in the matrix"
   ]
  },
  {
   "cell_type": "code",
   "execution_count": 55,
   "id": "aafab99b",
   "metadata": {},
   "outputs": [
    {
     "data": {
      "text/plain": [
       "4"
      ]
     },
     "execution_count": 55,
     "metadata": {},
     "output_type": "execute_result"
    }
   ],
   "source": [
    "arr.argmin() #return min index in the matrix"
   ]
  },
  {
   "cell_type": "code",
   "execution_count": 58,
   "id": "e0d6bb0c",
   "metadata": {},
   "outputs": [
    {
     "data": {
      "text/plain": [
       "array([ 1,  2,  3,  4,  5,  6,  7,  8,  9, 10, 11, 12, 13, 14, 15, 16, 17,\n",
       "       18, 19])"
      ]
     },
     "execution_count": 58,
     "metadata": {},
     "output_type": "execute_result"
    }
   ],
   "source": [
    "sample_array=np.arange(1,20)\n",
    "sample_array\n"
   ]
  },
  {
   "cell_type": "code",
   "execution_count": 60,
   "id": "7a194e33",
   "metadata": {},
   "outputs": [
    {
     "data": {
      "text/plain": [
       "array([ 2,  4,  6,  8, 10, 12, 14, 16, 18, 20, 22, 24, 26, 28, 30, 32, 34,\n",
       "       36, 38])"
      ]
     },
     "execution_count": 60,
     "metadata": {},
     "output_type": "execute_result"
    }
   ],
   "source": [
    "sample_array+sample_array\n"
   ]
  },
  {
   "cell_type": "code",
   "execution_count": 59,
   "id": "6a8e41aa",
   "metadata": {},
   "outputs": [
    {
     "data": {
      "text/plain": [
       "array([2.71828183e+00, 7.38905610e+00, 2.00855369e+01, 5.45981500e+01,\n",
       "       1.48413159e+02, 4.03428793e+02, 1.09663316e+03, 2.98095799e+03,\n",
       "       8.10308393e+03, 2.20264658e+04, 5.98741417e+04, 1.62754791e+05,\n",
       "       4.42413392e+05, 1.20260428e+06, 3.26901737e+06, 8.88611052e+06,\n",
       "       2.41549528e+07, 6.56599691e+07, 1.78482301e+08])"
      ]
     },
     "execution_count": 59,
     "metadata": {},
     "output_type": "execute_result"
    }
   ],
   "source": [
    "np.exp(sample_array) # exponential\n"
   ]
  },
  {
   "cell_type": "code",
   "execution_count": 61,
   "id": "d813438e",
   "metadata": {},
   "outputs": [
    {
     "name": "stdout",
     "output_type": "stream",
     "text": [
      "['__name__', '__doc__', '__package__', '__loader__', '__spec__', '__path__', '__file__', '__cached__', '__builtins__', '__docformat__', '_typing', '_config', '_libs', 'core', 'errors', 'util', 'compat', '_is_numpy_dev', 'get_option', 'set_option', 'reset_option', 'describe_option', 'option_context', 'options', 'pandas', 'io', 'tseries', 'arrays', 'plotting', 'Int8Dtype', 'Int16Dtype', 'Int32Dtype', 'Int64Dtype', 'UInt8Dtype', 'UInt16Dtype', 'UInt32Dtype', 'UInt64Dtype', 'Float32Dtype', 'Float64Dtype', 'CategoricalDtype', 'PeriodDtype', 'IntervalDtype', 'DatetimeTZDtype', 'StringDtype', 'BooleanDtype', 'NA', 'isna', 'isnull', 'notna', 'notnull', 'Index', 'CategoricalIndex', 'RangeIndex', 'MultiIndex', 'IntervalIndex', 'TimedeltaIndex', 'DatetimeIndex', 'PeriodIndex', 'IndexSlice', 'NaT', 'Period', 'period_range', 'Timedelta', 'timedelta_range', 'Timestamp', 'date_range', 'bdate_range', 'Interval', 'interval_range', 'DateOffset', 'to_numeric', 'to_datetime', 'to_timedelta', 'Flags', 'Grouper', 'factorize', 'unique', 'value_counts', 'NamedAgg', 'array', 'Categorical', 'set_eng_float_format', 'Series', 'DataFrame', 'SparseDtype', 'infer_freq', 'offsets', 'eval', 'concat', 'lreshape', 'melt', 'wide_to_long', 'merge', 'merge_asof', 'merge_ordered', 'crosstab', 'pivot', 'pivot_table', 'get_dummies', 'cut', 'qcut', 'api', '_testing', 'testing', 'show_versions', 'ExcelFile', 'ExcelWriter', 'read_excel', 'read_csv', 'read_fwf', 'read_table', 'read_pickle', 'to_pickle', 'HDFStore', 'read_hdf', 'read_sql', 'read_sql_query', 'read_sql_table', 'read_clipboard', 'read_parquet', 'read_orc', 'read_feather', 'read_gbq', 'read_html', 'read_xml', 'read_json', 'read_stata', 'read_sas', 'read_spss', 'json_normalize', 'test', '_version', '__version__', '__git_version__', '__deprecated_num_index_names', '__dir__', '__getattr__', '__all__', 'Float64Index', 'Int64Index', 'UInt64Index']\n"
     ]
    }
   ],
   "source": [
    "#pandas is a library used for working with data sets\n",
    "#it has a function for analyzing, cleaning,exploring and manipulating data\n",
    "import pandas \n",
    "print(pandas.__dir__()) #printing all libraries of pandas"
   ]
  },
  {
   "cell_type": "code",
   "execution_count": 71,
   "id": "a4079404",
   "metadata": {},
   "outputs": [
    {
     "name": "stdout",
     "output_type": "stream",
     "text": [
      "   0  1\n",
      "1  a  1\n",
      "2  b  2\n",
      "3  c  4\n",
      "4  d  5\n"
     ]
    }
   ],
   "source": [
    "import pandas as pd\n",
    "#creating a dataset using pandas \n",
    "rows=[[\"a\",1],[\"b\",2],[\"c\",4],[\"d\",5]]\n",
    "columns=[1,2,3,4]\n",
    "df=pd.DataFrame(rows,columns)\n",
    "print(df)"
   ]
  },
  {
   "cell_type": "code",
   "execution_count": 72,
   "id": "fe9fe22f",
   "metadata": {},
   "outputs": [
    {
     "data": {
      "text/html": [
       "<div>\n",
       "<style scoped>\n",
       "    .dataframe tbody tr th:only-of-type {\n",
       "        vertical-align: middle;\n",
       "    }\n",
       "\n",
       "    .dataframe tbody tr th {\n",
       "        vertical-align: top;\n",
       "    }\n",
       "\n",
       "    .dataframe thead th {\n",
       "        text-align: right;\n",
       "    }\n",
       "</style>\n",
       "<table border=\"1\" class=\"dataframe\">\n",
       "  <thead>\n",
       "    <tr style=\"text-align: right;\">\n",
       "      <th></th>\n",
       "      <th>0</th>\n",
       "      <th>1</th>\n",
       "    </tr>\n",
       "  </thead>\n",
       "  <tbody>\n",
       "    <tr>\n",
       "      <th>1</th>\n",
       "      <td>a</td>\n",
       "      <td>1</td>\n",
       "    </tr>\n",
       "    <tr>\n",
       "      <th>2</th>\n",
       "      <td>b</td>\n",
       "      <td>2</td>\n",
       "    </tr>\n",
       "    <tr>\n",
       "      <th>3</th>\n",
       "      <td>c</td>\n",
       "      <td>4</td>\n",
       "    </tr>\n",
       "    <tr>\n",
       "      <th>4</th>\n",
       "      <td>d</td>\n",
       "      <td>5</td>\n",
       "    </tr>\n",
       "  </tbody>\n",
       "</table>\n",
       "</div>"
      ],
      "text/plain": [
       "   0  1\n",
       "1  a  1\n",
       "2  b  2\n",
       "3  c  4\n",
       "4  d  5"
      ]
     },
     "execution_count": 72,
     "metadata": {},
     "output_type": "execute_result"
    }
   ],
   "source": [
    "df.head() #reading first n values of the table"
   ]
  },
  {
   "cell_type": "code",
   "execution_count": 73,
   "id": "703321d4",
   "metadata": {
    "scrolled": true
   },
   "outputs": [
    {
     "data": {
      "text/html": [
       "<div>\n",
       "<style scoped>\n",
       "    .dataframe tbody tr th:only-of-type {\n",
       "        vertical-align: middle;\n",
       "    }\n",
       "\n",
       "    .dataframe tbody tr th {\n",
       "        vertical-align: top;\n",
       "    }\n",
       "\n",
       "    .dataframe thead th {\n",
       "        text-align: right;\n",
       "    }\n",
       "</style>\n",
       "<table border=\"1\" class=\"dataframe\">\n",
       "  <thead>\n",
       "    <tr style=\"text-align: right;\">\n",
       "      <th></th>\n",
       "      <th>0</th>\n",
       "      <th>1</th>\n",
       "    </tr>\n",
       "  </thead>\n",
       "  <tbody>\n",
       "    <tr>\n",
       "      <th>1</th>\n",
       "      <td>a</td>\n",
       "      <td>1</td>\n",
       "    </tr>\n",
       "    <tr>\n",
       "      <th>2</th>\n",
       "      <td>b</td>\n",
       "      <td>2</td>\n",
       "    </tr>\n",
       "    <tr>\n",
       "      <th>3</th>\n",
       "      <td>c</td>\n",
       "      <td>4</td>\n",
       "    </tr>\n",
       "    <tr>\n",
       "      <th>4</th>\n",
       "      <td>d</td>\n",
       "      <td>5</td>\n",
       "    </tr>\n",
       "  </tbody>\n",
       "</table>\n",
       "</div>"
      ],
      "text/plain": [
       "   0  1\n",
       "1  a  1\n",
       "2  b  2\n",
       "3  c  4\n",
       "4  d  5"
      ]
     },
     "execution_count": 73,
     "metadata": {},
     "output_type": "execute_result"
    }
   ],
   "source": [
    "df.tail() #reading from last n values of the table"
   ]
  },
  {
   "cell_type": "code",
   "execution_count": 80,
   "id": "ea1e7174",
   "metadata": {},
   "outputs": [
    {
     "data": {
      "text/html": [
       "<div>\n",
       "<style scoped>\n",
       "    .dataframe tbody tr th:only-of-type {\n",
       "        vertical-align: middle;\n",
       "    }\n",
       "\n",
       "    .dataframe tbody tr th {\n",
       "        vertical-align: top;\n",
       "    }\n",
       "\n",
       "    .dataframe thead th {\n",
       "        text-align: right;\n",
       "    }\n",
       "</style>\n",
       "<table border=\"1\" class=\"dataframe\">\n",
       "  <thead>\n",
       "    <tr style=\"text-align: right;\">\n",
       "      <th></th>\n",
       "      <th>0</th>\n",
       "      <th>1</th>\n",
       "    </tr>\n",
       "  </thead>\n",
       "  <tbody>\n",
       "    <tr>\n",
       "      <th>4</th>\n",
       "      <td>d</td>\n",
       "      <td>5</td>\n",
       "    </tr>\n",
       "  </tbody>\n",
       "</table>\n",
       "</div>"
      ],
      "text/plain": [
       "   0  1\n",
       "4  d  5"
      ]
     },
     "execution_count": 80,
     "metadata": {},
     "output_type": "execute_result"
    }
   ],
   "source": [
    "df.sample() #returns random"
   ]
  },
  {
   "cell_type": "code",
   "execution_count": 75,
   "id": "d7c00a89",
   "metadata": {},
   "outputs": [
    {
     "name": "stdout",
     "output_type": "stream",
     "text": [
      "<class 'pandas.core.frame.DataFrame'>\n",
      "Int64Index: 4 entries, 1 to 4\n",
      "Data columns (total 2 columns):\n",
      " #   Column  Non-Null Count  Dtype \n",
      "---  ------  --------------  ----- \n",
      " 0   0       4 non-null      object\n",
      " 1   1       4 non-null      int64 \n",
      "dtypes: int64(1), object(1)\n",
      "memory usage: 96.0+ bytes\n"
     ]
    }
   ],
   "source": [
    "df.info() #prints information about the data"
   ]
  },
  {
   "cell_type": "code",
   "execution_count": 76,
   "id": "a2536ceb",
   "metadata": {},
   "outputs": [
    {
     "data": {
      "text/html": [
       "<div>\n",
       "<style scoped>\n",
       "    .dataframe tbody tr th:only-of-type {\n",
       "        vertical-align: middle;\n",
       "    }\n",
       "\n",
       "    .dataframe tbody tr th {\n",
       "        vertical-align: top;\n",
       "    }\n",
       "\n",
       "    .dataframe thead th {\n",
       "        text-align: right;\n",
       "    }\n",
       "</style>\n",
       "<table border=\"1\" class=\"dataframe\">\n",
       "  <thead>\n",
       "    <tr style=\"text-align: right;\">\n",
       "      <th></th>\n",
       "      <th>1</th>\n",
       "    </tr>\n",
       "  </thead>\n",
       "  <tbody>\n",
       "    <tr>\n",
       "      <th>count</th>\n",
       "      <td>4.000000</td>\n",
       "    </tr>\n",
       "    <tr>\n",
       "      <th>mean</th>\n",
       "      <td>3.000000</td>\n",
       "    </tr>\n",
       "    <tr>\n",
       "      <th>std</th>\n",
       "      <td>1.825742</td>\n",
       "    </tr>\n",
       "    <tr>\n",
       "      <th>min</th>\n",
       "      <td>1.000000</td>\n",
       "    </tr>\n",
       "    <tr>\n",
       "      <th>25%</th>\n",
       "      <td>1.750000</td>\n",
       "    </tr>\n",
       "    <tr>\n",
       "      <th>50%</th>\n",
       "      <td>3.000000</td>\n",
       "    </tr>\n",
       "    <tr>\n",
       "      <th>75%</th>\n",
       "      <td>4.250000</td>\n",
       "    </tr>\n",
       "    <tr>\n",
       "      <th>max</th>\n",
       "      <td>5.000000</td>\n",
       "    </tr>\n",
       "  </tbody>\n",
       "</table>\n",
       "</div>"
      ],
      "text/plain": [
       "              1\n",
       "count  4.000000\n",
       "mean   3.000000\n",
       "std    1.825742\n",
       "min    1.000000\n",
       "25%    1.750000\n",
       "50%    3.000000\n",
       "75%    4.250000\n",
       "max    5.000000"
      ]
     },
     "execution_count": 76,
     "metadata": {},
     "output_type": "execute_result"
    }
   ],
   "source": [
    "df.describe() #returns max,min,mean,std,quartile..."
   ]
  },
  {
   "cell_type": "code",
   "execution_count": 78,
   "id": "936e9509",
   "metadata": {},
   "outputs": [
    {
     "data": {
      "text/html": [
       "<div>\n",
       "<style scoped>\n",
       "    .dataframe tbody tr th:only-of-type {\n",
       "        vertical-align: middle;\n",
       "    }\n",
       "\n",
       "    .dataframe tbody tr th {\n",
       "        vertical-align: top;\n",
       "    }\n",
       "\n",
       "    .dataframe thead th {\n",
       "        text-align: right;\n",
       "    }\n",
       "</style>\n",
       "<table border=\"1\" class=\"dataframe\">\n",
       "  <thead>\n",
       "    <tr style=\"text-align: right;\">\n",
       "      <th></th>\n",
       "      <th>0</th>\n",
       "      <th>1</th>\n",
       "    </tr>\n",
       "  </thead>\n",
       "  <tbody>\n",
       "    <tr>\n",
       "      <th>count</th>\n",
       "      <td>4</td>\n",
       "      <td>4.000000</td>\n",
       "    </tr>\n",
       "    <tr>\n",
       "      <th>unique</th>\n",
       "      <td>4</td>\n",
       "      <td>NaN</td>\n",
       "    </tr>\n",
       "    <tr>\n",
       "      <th>top</th>\n",
       "      <td>a</td>\n",
       "      <td>NaN</td>\n",
       "    </tr>\n",
       "    <tr>\n",
       "      <th>freq</th>\n",
       "      <td>1</td>\n",
       "      <td>NaN</td>\n",
       "    </tr>\n",
       "    <tr>\n",
       "      <th>mean</th>\n",
       "      <td>NaN</td>\n",
       "      <td>3.000000</td>\n",
       "    </tr>\n",
       "    <tr>\n",
       "      <th>std</th>\n",
       "      <td>NaN</td>\n",
       "      <td>1.825742</td>\n",
       "    </tr>\n",
       "    <tr>\n",
       "      <th>min</th>\n",
       "      <td>NaN</td>\n",
       "      <td>1.000000</td>\n",
       "    </tr>\n",
       "    <tr>\n",
       "      <th>25%</th>\n",
       "      <td>NaN</td>\n",
       "      <td>1.750000</td>\n",
       "    </tr>\n",
       "    <tr>\n",
       "      <th>50%</th>\n",
       "      <td>NaN</td>\n",
       "      <td>3.000000</td>\n",
       "    </tr>\n",
       "    <tr>\n",
       "      <th>75%</th>\n",
       "      <td>NaN</td>\n",
       "      <td>4.250000</td>\n",
       "    </tr>\n",
       "    <tr>\n",
       "      <th>max</th>\n",
       "      <td>NaN</td>\n",
       "      <td>5.000000</td>\n",
       "    </tr>\n",
       "  </tbody>\n",
       "</table>\n",
       "</div>"
      ],
      "text/plain": [
       "          0         1\n",
       "count     4  4.000000\n",
       "unique    4       NaN\n",
       "top       a       NaN\n",
       "freq      1       NaN\n",
       "mean    NaN  3.000000\n",
       "std     NaN  1.825742\n",
       "min     NaN  1.000000\n",
       "25%     NaN  1.750000\n",
       "50%     NaN  3.000000\n",
       "75%     NaN  4.250000\n",
       "max     NaN  5.000000"
      ]
     },
     "execution_count": 78,
     "metadata": {},
     "output_type": "execute_result"
    }
   ],
   "source": [
    "df.describe(include=\"all\")"
   ]
  },
  {
   "cell_type": "code",
   "execution_count": 83,
   "id": "27518d2a",
   "metadata": {},
   "outputs": [
    {
     "data": {
      "text/plain": [
       "0    0\n",
       "1    0\n",
       "dtype: int64"
      ]
     },
     "execution_count": 83,
     "metadata": {},
     "output_type": "execute_result"
    }
   ],
   "source": [
    "df.isnull().sum() #handling missing values"
   ]
  },
  {
   "cell_type": "code",
   "execution_count": 85,
   "id": "dcb39b47",
   "metadata": {},
   "outputs": [
    {
     "data": {
      "text/plain": [
       "RangeIndex(start=0, stop=2, step=1)"
      ]
     },
     "execution_count": 85,
     "metadata": {},
     "output_type": "execute_result"
    }
   ],
   "source": [
    "df.columns #desc columns"
   ]
  },
  {
   "cell_type": "code",
   "execution_count": 87,
   "id": "929245e9",
   "metadata": {},
   "outputs": [
    {
     "data": {
      "text/plain": [
       "0    object\n",
       "1     int64\n",
       "dtype: object"
      ]
     },
     "execution_count": 87,
     "metadata": {},
     "output_type": "execute_result"
    }
   ],
   "source": [
    "df.dtypes #defining data types"
   ]
  },
  {
   "cell_type": "code",
   "execution_count": null,
   "id": "9f0dfdbe",
   "metadata": {},
   "outputs": [],
   "source": []
  }
 ],
 "metadata": {
  "kernelspec": {
   "display_name": "Python 3 (ipykernel)",
   "language": "python",
   "name": "python3"
  },
  "language_info": {
   "codemirror_mode": {
    "name": "ipython",
    "version": 3
   },
   "file_extension": ".py",
   "mimetype": "text/x-python",
   "name": "python",
   "nbconvert_exporter": "python",
   "pygments_lexer": "ipython3",
   "version": "3.9.13"
  }
 },
 "nbformat": 4,
 "nbformat_minor": 5
}
